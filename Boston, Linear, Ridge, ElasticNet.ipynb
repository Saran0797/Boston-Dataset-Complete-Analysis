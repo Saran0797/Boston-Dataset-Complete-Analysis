{
 "cells": [
  {
   "cell_type": "code",
   "execution_count": 1,
   "id": "edac1113",
   "metadata": {},
   "outputs": [],
   "source": [
    "import pandas as pd\n",
    "import numpy as np\n",
    "import matplotlib.pyplot as plt\n",
    "import seaborn as sns\n",
    "%matplotlib inline"
   ]
  },
  {
   "cell_type": "code",
   "execution_count": 2,
   "id": "632ab22b",
   "metadata": {},
   "outputs": [],
   "source": [
    "from sklearn import datasets"
   ]
  },
  {
   "cell_type": "code",
   "execution_count": 3,
   "id": "afd7f55c",
   "metadata": {},
   "outputs": [
    {
     "name": "stderr",
     "output_type": "stream",
     "text": [
      "C:\\anaconda\\lib\\site-packages\\sklearn\\utils\\deprecation.py:87: FutureWarning: Function load_boston is deprecated; `load_boston` is deprecated in 1.0 and will be removed in 1.2.\n",
      "\n",
      "    The Boston housing prices dataset has an ethical problem. You can refer to\n",
      "    the documentation of this function for further details.\n",
      "\n",
      "    The scikit-learn maintainers therefore strongly discourage the use of this\n",
      "    dataset unless the purpose of the code is to study and educate about\n",
      "    ethical issues in data science and machine learning.\n",
      "\n",
      "    In this special case, you can fetch the dataset from the original\n",
      "    source::\n",
      "\n",
      "        import pandas as pd\n",
      "        import numpy as np\n",
      "\n",
      "\n",
      "        data_url = \"http://lib.stat.cmu.edu/datasets/boston\"\n",
      "        raw_df = pd.read_csv(data_url, sep=\"\\s+\", skiprows=22, header=None)\n",
      "        data = np.hstack([raw_df.values[::2, :], raw_df.values[1::2, :2]])\n",
      "        target = raw_df.values[1::2, 2]\n",
      "\n",
      "    Alternative datasets include the California housing dataset (i.e.\n",
      "    :func:`~sklearn.datasets.fetch_california_housing`) and the Ames housing\n",
      "    dataset. You can load the datasets as follows::\n",
      "\n",
      "        from sklearn.datasets import fetch_california_housing\n",
      "        housing = fetch_california_housing()\n",
      "\n",
      "    for the California housing dataset and::\n",
      "\n",
      "        from sklearn.datasets import fetch_openml\n",
      "        housing = fetch_openml(name=\"house_prices\", as_frame=True)\n",
      "\n",
      "    for the Ames housing dataset.\n",
      "    \n",
      "  warnings.warn(msg, category=FutureWarning)\n"
     ]
    }
   ],
   "source": [
    "boston = datasets.load_boston()"
   ]
  },
  {
   "cell_type": "code",
   "execution_count": 4,
   "id": "0e0cb0e3",
   "metadata": {},
   "outputs": [],
   "source": [
    "data = pd.DataFrame(boston.data, columns=boston.feature_names)"
   ]
  },
  {
   "cell_type": "code",
   "execution_count": 5,
   "id": "a6ffd323",
   "metadata": {},
   "outputs": [
    {
     "data": {
      "text/plain": [
       "array(['CRIM', 'ZN', 'INDUS', 'CHAS', 'NOX', 'RM', 'AGE', 'DIS', 'RAD',\n",
       "       'TAX', 'PTRATIO', 'B', 'LSTAT'], dtype='<U7')"
      ]
     },
     "execution_count": 5,
     "metadata": {},
     "output_type": "execute_result"
    }
   ],
   "source": [
    "boston.feature_names"
   ]
  },
  {
   "cell_type": "code",
   "execution_count": 6,
   "id": "247cd043",
   "metadata": {},
   "outputs": [],
   "source": [
    "price = pd.DataFrame(boston.target)"
   ]
  },
  {
   "cell_type": "code",
   "execution_count": 7,
   "id": "1dd91647",
   "metadata": {},
   "outputs": [],
   "source": [
    "data = pd.concat([data, price], axis=1)"
   ]
  },
  {
   "cell_type": "code",
   "execution_count": 8,
   "id": "29c9ea8c",
   "metadata": {},
   "outputs": [],
   "source": [
    "data.rename(columns={0:'Price'}, inplace=True)"
   ]
  },
  {
   "cell_type": "code",
   "execution_count": 9,
   "id": "13c52b9c",
   "metadata": {},
   "outputs": [
    {
     "data": {
      "text/html": [
       "<div>\n",
       "<style scoped>\n",
       "    .dataframe tbody tr th:only-of-type {\n",
       "        vertical-align: middle;\n",
       "    }\n",
       "\n",
       "    .dataframe tbody tr th {\n",
       "        vertical-align: top;\n",
       "    }\n",
       "\n",
       "    .dataframe thead th {\n",
       "        text-align: right;\n",
       "    }\n",
       "</style>\n",
       "<table border=\"1\" class=\"dataframe\">\n",
       "  <thead>\n",
       "    <tr style=\"text-align: right;\">\n",
       "      <th></th>\n",
       "      <th>CRIM</th>\n",
       "      <th>ZN</th>\n",
       "      <th>INDUS</th>\n",
       "      <th>CHAS</th>\n",
       "      <th>NOX</th>\n",
       "      <th>RM</th>\n",
       "      <th>AGE</th>\n",
       "      <th>DIS</th>\n",
       "      <th>RAD</th>\n",
       "      <th>TAX</th>\n",
       "      <th>PTRATIO</th>\n",
       "      <th>B</th>\n",
       "      <th>LSTAT</th>\n",
       "      <th>Price</th>\n",
       "    </tr>\n",
       "  </thead>\n",
       "  <tbody>\n",
       "    <tr>\n",
       "      <th>0</th>\n",
       "      <td>0.00632</td>\n",
       "      <td>18.0</td>\n",
       "      <td>2.31</td>\n",
       "      <td>0.0</td>\n",
       "      <td>0.538</td>\n",
       "      <td>6.575</td>\n",
       "      <td>65.2</td>\n",
       "      <td>4.0900</td>\n",
       "      <td>1.0</td>\n",
       "      <td>296.0</td>\n",
       "      <td>15.3</td>\n",
       "      <td>396.90</td>\n",
       "      <td>4.98</td>\n",
       "      <td>24.0</td>\n",
       "    </tr>\n",
       "    <tr>\n",
       "      <th>1</th>\n",
       "      <td>0.02731</td>\n",
       "      <td>0.0</td>\n",
       "      <td>7.07</td>\n",
       "      <td>0.0</td>\n",
       "      <td>0.469</td>\n",
       "      <td>6.421</td>\n",
       "      <td>78.9</td>\n",
       "      <td>4.9671</td>\n",
       "      <td>2.0</td>\n",
       "      <td>242.0</td>\n",
       "      <td>17.8</td>\n",
       "      <td>396.90</td>\n",
       "      <td>9.14</td>\n",
       "      <td>21.6</td>\n",
       "    </tr>\n",
       "    <tr>\n",
       "      <th>2</th>\n",
       "      <td>0.02729</td>\n",
       "      <td>0.0</td>\n",
       "      <td>7.07</td>\n",
       "      <td>0.0</td>\n",
       "      <td>0.469</td>\n",
       "      <td>7.185</td>\n",
       "      <td>61.1</td>\n",
       "      <td>4.9671</td>\n",
       "      <td>2.0</td>\n",
       "      <td>242.0</td>\n",
       "      <td>17.8</td>\n",
       "      <td>392.83</td>\n",
       "      <td>4.03</td>\n",
       "      <td>34.7</td>\n",
       "    </tr>\n",
       "    <tr>\n",
       "      <th>3</th>\n",
       "      <td>0.03237</td>\n",
       "      <td>0.0</td>\n",
       "      <td>2.18</td>\n",
       "      <td>0.0</td>\n",
       "      <td>0.458</td>\n",
       "      <td>6.998</td>\n",
       "      <td>45.8</td>\n",
       "      <td>6.0622</td>\n",
       "      <td>3.0</td>\n",
       "      <td>222.0</td>\n",
       "      <td>18.7</td>\n",
       "      <td>394.63</td>\n",
       "      <td>2.94</td>\n",
       "      <td>33.4</td>\n",
       "    </tr>\n",
       "    <tr>\n",
       "      <th>4</th>\n",
       "      <td>0.06905</td>\n",
       "      <td>0.0</td>\n",
       "      <td>2.18</td>\n",
       "      <td>0.0</td>\n",
       "      <td>0.458</td>\n",
       "      <td>7.147</td>\n",
       "      <td>54.2</td>\n",
       "      <td>6.0622</td>\n",
       "      <td>3.0</td>\n",
       "      <td>222.0</td>\n",
       "      <td>18.7</td>\n",
       "      <td>396.90</td>\n",
       "      <td>5.33</td>\n",
       "      <td>36.2</td>\n",
       "    </tr>\n",
       "    <tr>\n",
       "      <th>...</th>\n",
       "      <td>...</td>\n",
       "      <td>...</td>\n",
       "      <td>...</td>\n",
       "      <td>...</td>\n",
       "      <td>...</td>\n",
       "      <td>...</td>\n",
       "      <td>...</td>\n",
       "      <td>...</td>\n",
       "      <td>...</td>\n",
       "      <td>...</td>\n",
       "      <td>...</td>\n",
       "      <td>...</td>\n",
       "      <td>...</td>\n",
       "      <td>...</td>\n",
       "    </tr>\n",
       "    <tr>\n",
       "      <th>501</th>\n",
       "      <td>0.06263</td>\n",
       "      <td>0.0</td>\n",
       "      <td>11.93</td>\n",
       "      <td>0.0</td>\n",
       "      <td>0.573</td>\n",
       "      <td>6.593</td>\n",
       "      <td>69.1</td>\n",
       "      <td>2.4786</td>\n",
       "      <td>1.0</td>\n",
       "      <td>273.0</td>\n",
       "      <td>21.0</td>\n",
       "      <td>391.99</td>\n",
       "      <td>9.67</td>\n",
       "      <td>22.4</td>\n",
       "    </tr>\n",
       "    <tr>\n",
       "      <th>502</th>\n",
       "      <td>0.04527</td>\n",
       "      <td>0.0</td>\n",
       "      <td>11.93</td>\n",
       "      <td>0.0</td>\n",
       "      <td>0.573</td>\n",
       "      <td>6.120</td>\n",
       "      <td>76.7</td>\n",
       "      <td>2.2875</td>\n",
       "      <td>1.0</td>\n",
       "      <td>273.0</td>\n",
       "      <td>21.0</td>\n",
       "      <td>396.90</td>\n",
       "      <td>9.08</td>\n",
       "      <td>20.6</td>\n",
       "    </tr>\n",
       "    <tr>\n",
       "      <th>503</th>\n",
       "      <td>0.06076</td>\n",
       "      <td>0.0</td>\n",
       "      <td>11.93</td>\n",
       "      <td>0.0</td>\n",
       "      <td>0.573</td>\n",
       "      <td>6.976</td>\n",
       "      <td>91.0</td>\n",
       "      <td>2.1675</td>\n",
       "      <td>1.0</td>\n",
       "      <td>273.0</td>\n",
       "      <td>21.0</td>\n",
       "      <td>396.90</td>\n",
       "      <td>5.64</td>\n",
       "      <td>23.9</td>\n",
       "    </tr>\n",
       "    <tr>\n",
       "      <th>504</th>\n",
       "      <td>0.10959</td>\n",
       "      <td>0.0</td>\n",
       "      <td>11.93</td>\n",
       "      <td>0.0</td>\n",
       "      <td>0.573</td>\n",
       "      <td>6.794</td>\n",
       "      <td>89.3</td>\n",
       "      <td>2.3889</td>\n",
       "      <td>1.0</td>\n",
       "      <td>273.0</td>\n",
       "      <td>21.0</td>\n",
       "      <td>393.45</td>\n",
       "      <td>6.48</td>\n",
       "      <td>22.0</td>\n",
       "    </tr>\n",
       "    <tr>\n",
       "      <th>505</th>\n",
       "      <td>0.04741</td>\n",
       "      <td>0.0</td>\n",
       "      <td>11.93</td>\n",
       "      <td>0.0</td>\n",
       "      <td>0.573</td>\n",
       "      <td>6.030</td>\n",
       "      <td>80.8</td>\n",
       "      <td>2.5050</td>\n",
       "      <td>1.0</td>\n",
       "      <td>273.0</td>\n",
       "      <td>21.0</td>\n",
       "      <td>396.90</td>\n",
       "      <td>7.88</td>\n",
       "      <td>11.9</td>\n",
       "    </tr>\n",
       "  </tbody>\n",
       "</table>\n",
       "<p>506 rows × 14 columns</p>\n",
       "</div>"
      ],
      "text/plain": [
       "        CRIM    ZN  INDUS  CHAS    NOX     RM   AGE     DIS  RAD    TAX  \\\n",
       "0    0.00632  18.0   2.31   0.0  0.538  6.575  65.2  4.0900  1.0  296.0   \n",
       "1    0.02731   0.0   7.07   0.0  0.469  6.421  78.9  4.9671  2.0  242.0   \n",
       "2    0.02729   0.0   7.07   0.0  0.469  7.185  61.1  4.9671  2.0  242.0   \n",
       "3    0.03237   0.0   2.18   0.0  0.458  6.998  45.8  6.0622  3.0  222.0   \n",
       "4    0.06905   0.0   2.18   0.0  0.458  7.147  54.2  6.0622  3.0  222.0   \n",
       "..       ...   ...    ...   ...    ...    ...   ...     ...  ...    ...   \n",
       "501  0.06263   0.0  11.93   0.0  0.573  6.593  69.1  2.4786  1.0  273.0   \n",
       "502  0.04527   0.0  11.93   0.0  0.573  6.120  76.7  2.2875  1.0  273.0   \n",
       "503  0.06076   0.0  11.93   0.0  0.573  6.976  91.0  2.1675  1.0  273.0   \n",
       "504  0.10959   0.0  11.93   0.0  0.573  6.794  89.3  2.3889  1.0  273.0   \n",
       "505  0.04741   0.0  11.93   0.0  0.573  6.030  80.8  2.5050  1.0  273.0   \n",
       "\n",
       "     PTRATIO       B  LSTAT  Price  \n",
       "0       15.3  396.90   4.98   24.0  \n",
       "1       17.8  396.90   9.14   21.6  \n",
       "2       17.8  392.83   4.03   34.7  \n",
       "3       18.7  394.63   2.94   33.4  \n",
       "4       18.7  396.90   5.33   36.2  \n",
       "..       ...     ...    ...    ...  \n",
       "501     21.0  391.99   9.67   22.4  \n",
       "502     21.0  396.90   9.08   20.6  \n",
       "503     21.0  396.90   5.64   23.9  \n",
       "504     21.0  393.45   6.48   22.0  \n",
       "505     21.0  396.90   7.88   11.9  \n",
       "\n",
       "[506 rows x 14 columns]"
      ]
     },
     "execution_count": 9,
     "metadata": {},
     "output_type": "execute_result"
    }
   ],
   "source": [
    "data"
   ]
  },
  {
   "cell_type": "code",
   "execution_count": 10,
   "id": "229769e0",
   "metadata": {},
   "outputs": [
    {
     "data": {
      "text/plain": [
       "Index(['CRIM', 'ZN', 'INDUS', 'CHAS', 'NOX', 'RM', 'AGE', 'DIS', 'RAD', 'TAX',\n",
       "       'PTRATIO', 'B', 'LSTAT', 'Price'],\n",
       "      dtype='object')"
      ]
     },
     "execution_count": 10,
     "metadata": {},
     "output_type": "execute_result"
    }
   ],
   "source": [
    "data.columns"
   ]
  },
  {
   "cell_type": "code",
   "execution_count": 11,
   "id": "74542e05",
   "metadata": {},
   "outputs": [
    {
     "data": {
      "text/plain": [
       "CRIM       0\n",
       "ZN         0\n",
       "INDUS      0\n",
       "CHAS       0\n",
       "NOX        0\n",
       "RM         0\n",
       "AGE        0\n",
       "DIS        0\n",
       "RAD        0\n",
       "TAX        0\n",
       "PTRATIO    0\n",
       "B          0\n",
       "LSTAT      0\n",
       "Price      0\n",
       "dtype: int64"
      ]
     },
     "execution_count": 11,
     "metadata": {},
     "output_type": "execute_result"
    }
   ],
   "source": [
    "data.isnull().sum()"
   ]
  },
  {
   "cell_type": "code",
   "execution_count": 12,
   "id": "8d7876c5",
   "metadata": {},
   "outputs": [
    {
     "name": "stdout",
     "output_type": "stream",
     "text": [
      "<class 'pandas.core.frame.DataFrame'>\n",
      "RangeIndex: 506 entries, 0 to 505\n",
      "Data columns (total 14 columns):\n",
      " #   Column   Non-Null Count  Dtype  \n",
      "---  ------   --------------  -----  \n",
      " 0   CRIM     506 non-null    float64\n",
      " 1   ZN       506 non-null    float64\n",
      " 2   INDUS    506 non-null    float64\n",
      " 3   CHAS     506 non-null    float64\n",
      " 4   NOX      506 non-null    float64\n",
      " 5   RM       506 non-null    float64\n",
      " 6   AGE      506 non-null    float64\n",
      " 7   DIS      506 non-null    float64\n",
      " 8   RAD      506 non-null    float64\n",
      " 9   TAX      506 non-null    float64\n",
      " 10  PTRATIO  506 non-null    float64\n",
      " 11  B        506 non-null    float64\n",
      " 12  LSTAT    506 non-null    float64\n",
      " 13  Price    506 non-null    float64\n",
      "dtypes: float64(14)\n",
      "memory usage: 55.5 KB\n"
     ]
    }
   ],
   "source": [
    "data.info()"
   ]
  },
  {
   "cell_type": "code",
   "execution_count": 13,
   "id": "652f5102",
   "metadata": {},
   "outputs": [],
   "source": [
    "discrete_features = [feature for feature in data.columns if data[feature].nunique()<15]"
   ]
  },
  {
   "cell_type": "code",
   "execution_count": 14,
   "id": "03ff9624",
   "metadata": {},
   "outputs": [],
   "source": [
    "continuous_features = [feature for feature in data.columns if feature not in ['CHAS', 'RAD', 'Price']]\n",
    "continuous_features = data[continuous_features]"
   ]
  },
  {
   "cell_type": "code",
   "execution_count": 15,
   "id": "988c6470",
   "metadata": {},
   "outputs": [
    {
     "name": "stderr",
     "output_type": "stream",
     "text": [
      "C:\\anaconda\\lib\\site-packages\\seaborn\\_decorators.py:36: FutureWarning: Pass the following variable as a keyword arg: x. From version 0.12, the only valid positional argument will be `data`, and passing other arguments without an explicit keyword will result in an error or misinterpretation.\n",
      "  warnings.warn(\n",
      "C:\\anaconda\\lib\\site-packages\\seaborn\\_decorators.py:36: FutureWarning: Pass the following variable as a keyword arg: x. From version 0.12, the only valid positional argument will be `data`, and passing other arguments without an explicit keyword will result in an error or misinterpretation.\n",
      "  warnings.warn(\n",
      "C:\\anaconda\\lib\\site-packages\\seaborn\\_decorators.py:36: FutureWarning: Pass the following variable as a keyword arg: x. From version 0.12, the only valid positional argument will be `data`, and passing other arguments without an explicit keyword will result in an error or misinterpretation.\n",
      "  warnings.warn(\n",
      "C:\\anaconda\\lib\\site-packages\\seaborn\\_decorators.py:36: FutureWarning: Pass the following variable as a keyword arg: x. From version 0.12, the only valid positional argument will be `data`, and passing other arguments without an explicit keyword will result in an error or misinterpretation.\n",
      "  warnings.warn(\n",
      "C:\\anaconda\\lib\\site-packages\\seaborn\\_decorators.py:36: FutureWarning: Pass the following variable as a keyword arg: x. From version 0.12, the only valid positional argument will be `data`, and passing other arguments without an explicit keyword will result in an error or misinterpretation.\n",
      "  warnings.warn(\n",
      "C:\\anaconda\\lib\\site-packages\\seaborn\\_decorators.py:36: FutureWarning: Pass the following variable as a keyword arg: x. From version 0.12, the only valid positional argument will be `data`, and passing other arguments without an explicit keyword will result in an error or misinterpretation.\n",
      "  warnings.warn(\n",
      "C:\\anaconda\\lib\\site-packages\\seaborn\\_decorators.py:36: FutureWarning: Pass the following variable as a keyword arg: x. From version 0.12, the only valid positional argument will be `data`, and passing other arguments without an explicit keyword will result in an error or misinterpretation.\n",
      "  warnings.warn(\n",
      "C:\\anaconda\\lib\\site-packages\\seaborn\\_decorators.py:36: FutureWarning: Pass the following variable as a keyword arg: x. From version 0.12, the only valid positional argument will be `data`, and passing other arguments without an explicit keyword will result in an error or misinterpretation.\n",
      "  warnings.warn(\n",
      "C:\\anaconda\\lib\\site-packages\\seaborn\\_decorators.py:36: FutureWarning: Pass the following variable as a keyword arg: x. From version 0.12, the only valid positional argument will be `data`, and passing other arguments without an explicit keyword will result in an error or misinterpretation.\n",
      "  warnings.warn(\n",
      "C:\\anaconda\\lib\\site-packages\\seaborn\\_decorators.py:36: FutureWarning: Pass the following variable as a keyword arg: x. From version 0.12, the only valid positional argument will be `data`, and passing other arguments without an explicit keyword will result in an error or misinterpretation.\n",
      "  warnings.warn(\n",
      "C:\\anaconda\\lib\\site-packages\\seaborn\\_decorators.py:36: FutureWarning: Pass the following variable as a keyword arg: x. From version 0.12, the only valid positional argument will be `data`, and passing other arguments without an explicit keyword will result in an error or misinterpretation.\n",
      "  warnings.warn(\n"
     ]
    },
    {
     "data": {
      "image/png": "[encoded data removed]",
      "text/plain": [
       "<Figure size 1440x1440 with 11 Axes>"
      ]
     },
     "metadata": {
      "needs_background": "light"
     },
     "output_type": "display_data"
    }
   ],
   "source": [
    "#drawing boxplot to see the number of outliers present in the datasets\n",
    "plt.figure(figsize=(20,20))\n",
    "plt.suptitle('boxplot of each continuous variables')\n",
    "\n",
    "for i in range(len(continuous_features.columns)):\n",
    "    plt.subplot(5,4,i+1)\n",
    "    sns.boxplot(continuous_features[continuous_features.columns[i]])\n",
    "    plt.tight_layout()"
   ]
  },
  {
   "cell_type": "code",
   "execution_count": 16,
   "id": "a7333320",
   "metadata": {},
   "outputs": [],
   "source": [
    "#removing the extreme outliers on the continuous variables \n",
    "for feature in continuous_features.columns:\n",
    "    lower_quantile = data[feature].quantile(0.25)\n",
    "    upper_quantile = data[feature].quantile(0.75)\n",
    "    inter_quantile = upper_quantile-lower_quantile\n",
    "    lower_boundary = lower_quantile-(3*inter_quantile)\n",
    "    upper_boundary = upper_quantile+(3*inter_quantile)\n",
    "    data.loc[data[feature]>upper_boundary, feature] = np.nan\n",
    "    data.loc[data[feature]<lower_boundary, feature] = np.nan"
   ]
  },
  {
   "cell_type": "code",
   "execution_count": 17,
   "id": "c651c4ab",
   "metadata": {},
   "outputs": [
    {
     "data": {
      "text/plain": [
       "CRIM       0\n",
       "ZN         0\n",
       "INDUS      0\n",
       "NOX        0\n",
       "RM         0\n",
       "AGE        0\n",
       "DIS        0\n",
       "TAX        0\n",
       "PTRATIO    0\n",
       "B          0\n",
       "LSTAT      0\n",
       "dtype: int64"
      ]
     },
     "execution_count": 17,
     "metadata": {},
     "output_type": "execute_result"
    }
   ],
   "source": [
    "continuous_features.isnull().sum()"
   ]
  },
  {
   "cell_type": "code",
   "execution_count": 18,
   "id": "ce7041c4",
   "metadata": {},
   "outputs": [],
   "source": [
    "discrete_features = data[discrete_features]"
   ]
  },
  {
   "cell_type": "code",
   "execution_count": 19,
   "id": "73acd6f2",
   "metadata": {},
   "outputs": [
    {
     "data": {
      "text/plain": [
       "0      24.0\n",
       "1      21.6\n",
       "2      34.7\n",
       "3      33.4\n",
       "4      36.2\n",
       "       ... \n",
       "501    22.4\n",
       "502    20.6\n",
       "503    23.9\n",
       "504    22.0\n",
       "505    11.9\n",
       "Name: Price, Length: 506, dtype: float64"
      ]
     },
     "execution_count": 19,
     "metadata": {},
     "output_type": "execute_result"
    }
   ],
   "source": [
    "y = data['Price']\n",
    "y"
   ]
  },
  {
   "cell_type": "code",
   "execution_count": 20,
   "id": "b09d5277",
   "metadata": {},
   "outputs": [],
   "source": [
    "data1 = pd.concat([continuous_features, discrete_features, y], axis=1)"
   ]
  },
  {
   "cell_type": "code",
   "execution_count": 21,
   "id": "dbf1db1b",
   "metadata": {},
   "outputs": [
    {
     "data": {
      "text/plain": [
       "CRIM       0\n",
       "ZN         0\n",
       "INDUS      0\n",
       "NOX        0\n",
       "RM         0\n",
       "AGE        0\n",
       "DIS        0\n",
       "TAX        0\n",
       "PTRATIO    0\n",
       "B          0\n",
       "LSTAT      0\n",
       "CHAS       0\n",
       "RAD        0\n",
       "Price      0\n",
       "dtype: int64"
      ]
     },
     "execution_count": 21,
     "metadata": {},
     "output_type": "execute_result"
    }
   ],
   "source": [
    "data1.isnull().sum()"
   ]
  },
  {
   "cell_type": "code",
   "execution_count": 22,
   "id": "0860f91c",
   "metadata": {},
   "outputs": [],
   "source": [
    "data1.dropna(inplace=True)"
   ]
  },
  {
   "cell_type": "code",
   "execution_count": 23,
   "id": "e508d108",
   "metadata": {},
   "outputs": [
    {
     "data": {
      "text/plain": [
       "(506, 14)"
      ]
     },
     "execution_count": 23,
     "metadata": {},
     "output_type": "execute_result"
    }
   ],
   "source": [
    "data1.shape"
   ]
  },
  {
   "cell_type": "code",
   "execution_count": 24,
   "id": "4d52e7a5",
   "metadata": {},
   "outputs": [
    {
     "data": {
      "text/plain": [
       "(506, 14)"
      ]
     },
     "execution_count": 24,
     "metadata": {},
     "output_type": "execute_result"
    }
   ],
   "source": [
    "data.shape"
   ]
  },
  {
   "cell_type": "code",
   "execution_count": 25,
   "id": "a2f75f70",
   "metadata": {},
   "outputs": [
    {
     "data": {
      "image/png": "[encoded data removed]",
      "text/plain": [
       "<Figure size 1440x1440 with 14 Axes>"
      ]
     },
     "metadata": {
      "needs_background": "light"
     },
     "output_type": "display_data"
    }
   ],
   "source": [
    "#drawing distribution plot to see the distribution of the dataset\n",
    "plt.figure(figsize=(20,20))\n",
    "plt.suptitle('distribution plot of each variables', fontsize=20, fontweight='bold')\n",
    "\n",
    "for i in range(len(data1.columns)):\n",
    "    plt.subplot(5,4,i+1)\n",
    "    sns.kdeplot(data1[data1.columns[i]], shade=True)\n",
    "    plt.tight_layout()"
   ]
  },
  {
   "cell_type": "code",
   "execution_count": 26,
   "id": "cfd234de",
   "metadata": {},
   "outputs": [
    {
     "data": {
      "text/html": [
       "<div>\n",
       "<style scoped>\n",
       "    .dataframe tbody tr th:only-of-type {\n",
       "        vertical-align: middle;\n",
       "    }\n",
       "\n",
       "    .dataframe tbody tr th {\n",
       "        vertical-align: top;\n",
       "    }\n",
       "\n",
       "    .dataframe thead th {\n",
       "        text-align: right;\n",
       "    }\n",
       "</style>\n",
       "<table border=\"1\" class=\"dataframe\">\n",
       "  <thead>\n",
       "    <tr style=\"text-align: right;\">\n",
       "      <th></th>\n",
       "      <th>CRIM</th>\n",
       "      <th>ZN</th>\n",
       "      <th>INDUS</th>\n",
       "      <th>NOX</th>\n",
       "      <th>RM</th>\n",
       "      <th>AGE</th>\n",
       "      <th>DIS</th>\n",
       "      <th>TAX</th>\n",
       "      <th>PTRATIO</th>\n",
       "      <th>B</th>\n",
       "      <th>LSTAT</th>\n",
       "      <th>CHAS</th>\n",
       "      <th>RAD</th>\n",
       "      <th>Price</th>\n",
       "    </tr>\n",
       "  </thead>\n",
       "  <tbody>\n",
       "    <tr>\n",
       "      <th>count</th>\n",
       "      <td>506.000000</td>\n",
       "      <td>506.000000</td>\n",
       "      <td>506.000000</td>\n",
       "      <td>506.000000</td>\n",
       "      <td>506.000000</td>\n",
       "      <td>506.000000</td>\n",
       "      <td>506.000000</td>\n",
       "      <td>506.000000</td>\n",
       "      <td>506.000000</td>\n",
       "      <td>506.000000</td>\n",
       "      <td>506.000000</td>\n",
       "      <td>506.000000</td>\n",
       "      <td>506.000000</td>\n",
       "      <td>506.000000</td>\n",
       "    </tr>\n",
       "    <tr>\n",
       "      <th>mean</th>\n",
       "      <td>3.613524</td>\n",
       "      <td>11.363636</td>\n",
       "      <td>11.136779</td>\n",
       "      <td>0.554695</td>\n",
       "      <td>6.284634</td>\n",
       "      <td>68.574901</td>\n",
       "      <td>3.795043</td>\n",
       "      <td>408.237154</td>\n",
       "      <td>18.455534</td>\n",
       "      <td>356.674032</td>\n",
       "      <td>12.653063</td>\n",
       "      <td>0.069170</td>\n",
       "      <td>9.549407</td>\n",
       "      <td>22.532806</td>\n",
       "    </tr>\n",
       "    <tr>\n",
       "      <th>std</th>\n",
       "      <td>8.601545</td>\n",
       "      <td>23.322453</td>\n",
       "      <td>6.860353</td>\n",
       "      <td>0.115878</td>\n",
       "      <td>0.702617</td>\n",
       "      <td>28.148861</td>\n",
       "      <td>2.105710</td>\n",
       "      <td>168.537116</td>\n",
       "      <td>2.164946</td>\n",
       "      <td>91.294864</td>\n",
       "      <td>7.141062</td>\n",
       "      <td>0.253994</td>\n",
       "      <td>8.707259</td>\n",
       "      <td>9.197104</td>\n",
       "    </tr>\n",
       "    <tr>\n",
       "      <th>min</th>\n",
       "      <td>0.006320</td>\n",
       "      <td>0.000000</td>\n",
       "      <td>0.460000</td>\n",
       "      <td>0.385000</td>\n",
       "      <td>3.561000</td>\n",
       "      <td>2.900000</td>\n",
       "      <td>1.129600</td>\n",
       "      <td>187.000000</td>\n",
       "      <td>12.600000</td>\n",
       "      <td>0.320000</td>\n",
       "      <td>1.730000</td>\n",
       "      <td>0.000000</td>\n",
       "      <td>1.000000</td>\n",
       "      <td>5.000000</td>\n",
       "    </tr>\n",
       "    <tr>\n",
       "      <th>25%</th>\n",
       "      <td>0.082045</td>\n",
       "      <td>0.000000</td>\n",
       "      <td>5.190000</td>\n",
       "      <td>0.449000</td>\n",
       "      <td>5.885500</td>\n",
       "      <td>45.025000</td>\n",
       "      <td>2.100175</td>\n",
       "      <td>279.000000</td>\n",
       "      <td>17.400000</td>\n",
       "      <td>375.377500</td>\n",
       "      <td>6.950000</td>\n",
       "      <td>0.000000</td>\n",
       "      <td>4.000000</td>\n",
       "      <td>17.025000</td>\n",
       "    </tr>\n",
       "    <tr>\n",
       "      <th>50%</th>\n",
       "      <td>0.256510</td>\n",
       "      <td>0.000000</td>\n",
       "      <td>9.690000</td>\n",
       "      <td>0.538000</td>\n",
       "      <td>6.208500</td>\n",
       "      <td>77.500000</td>\n",
       "      <td>3.207450</td>\n",
       "      <td>330.000000</td>\n",
       "      <td>19.050000</td>\n",
       "      <td>391.440000</td>\n",
       "      <td>11.360000</td>\n",
       "      <td>0.000000</td>\n",
       "      <td>5.000000</td>\n",
       "      <td>21.200000</td>\n",
       "    </tr>\n",
       "    <tr>\n",
       "      <th>75%</th>\n",
       "      <td>3.677083</td>\n",
       "      <td>12.500000</td>\n",
       "      <td>18.100000</td>\n",
       "      <td>0.624000</td>\n",
       "      <td>6.623500</td>\n",
       "      <td>94.075000</td>\n",
       "      <td>5.188425</td>\n",
       "      <td>666.000000</td>\n",
       "      <td>20.200000</td>\n",
       "      <td>396.225000</td>\n",
       "      <td>16.955000</td>\n",
       "      <td>0.000000</td>\n",
       "      <td>24.000000</td>\n",
       "      <td>25.000000</td>\n",
       "    </tr>\n",
       "    <tr>\n",
       "      <th>max</th>\n",
       "      <td>88.976200</td>\n",
       "      <td>100.000000</td>\n",
       "      <td>27.740000</td>\n",
       "      <td>0.871000</td>\n",
       "      <td>8.780000</td>\n",
       "      <td>100.000000</td>\n",
       "      <td>12.126500</td>\n",
       "      <td>711.000000</td>\n",
       "      <td>22.000000</td>\n",
       "      <td>396.900000</td>\n",
       "      <td>37.970000</td>\n",
       "      <td>1.000000</td>\n",
       "      <td>24.000000</td>\n",
       "      <td>50.000000</td>\n",
       "    </tr>\n",
       "  </tbody>\n",
       "</table>\n",
       "</div>"
      ],
      "text/plain": [
       "             CRIM          ZN       INDUS         NOX          RM         AGE  \\\n",
       "count  506.000000  506.000000  506.000000  506.000000  506.000000  506.000000   \n",
       "mean     3.613524   11.363636   11.136779    0.554695    6.284634   68.574901   \n",
       "std      8.601545   23.322453    6.860353    0.115878    0.702617   28.148861   \n",
       "min      0.006320    0.000000    0.460000    0.385000    3.561000    2.900000   \n",
       "25%      0.082045    0.000000    5.190000    0.449000    5.885500   45.025000   \n",
       "50%      0.256510    0.000000    9.690000    0.538000    6.208500   77.500000   \n",
       "75%      3.677083   12.500000   18.100000    0.624000    6.623500   94.075000   \n",
       "max     88.976200  100.000000   27.740000    0.871000    8.780000  100.000000   \n",
       "\n",
       "              DIS         TAX     PTRATIO           B       LSTAT        CHAS  \\\n",
       "count  506.000000  506.000000  506.000000  506.000000  506.000000  506.000000   \n",
       "mean     3.795043  408.237154   18.455534  356.674032   12.653063    0.069170   \n",
       "std      2.105710  168.537116    2.164946   91.294864    7.141062    0.253994   \n",
       "min      1.129600  187.000000   12.600000    0.320000    1.730000    0.000000   \n",
       "25%      2.100175  279.000000   17.400000  375.377500    6.950000    0.000000   \n",
       "50%      3.207450  330.000000   19.050000  391.440000   11.360000    0.000000   \n",
       "75%      5.188425  666.000000   20.200000  396.225000   16.955000    0.000000   \n",
       "max     12.126500  711.000000   22.000000  396.900000   37.970000    1.000000   \n",
       "\n",
       "              RAD       Price  \n",
       "count  506.000000  506.000000  \n",
       "mean     9.549407   22.532806  \n",
       "std      8.707259    9.197104  \n",
       "min      1.000000    5.000000  \n",
       "25%      4.000000   17.025000  \n",
       "50%      5.000000   21.200000  \n",
       "75%     24.000000   25.000000  \n",
       "max     24.000000   50.000000  "
      ]
     },
     "execution_count": 26,
     "metadata": {},
     "output_type": "execute_result"
    }
   ],
   "source": [
    "data1.describe()"
   ]
  },
  {
   "cell_type": "code",
   "execution_count": 27,
   "id": "6882e117",
   "metadata": {},
   "outputs": [],
   "source": [
    "from scipy.stats import boxcox"
   ]
  },
  {
   "cell_type": "code",
   "execution_count": 28,
   "id": "eb89c2b4",
   "metadata": {},
   "outputs": [
    {
     "data": {
      "text/plain": [
       "Index(['CRIM', 'ZN', 'INDUS', 'NOX', 'RM', 'AGE', 'DIS', 'TAX', 'PTRATIO', 'B',\n",
       "       'LSTAT', 'CHAS', 'RAD', 'Price'],\n",
       "      dtype='object')"
      ]
     },
     "execution_count": 28,
     "metadata": {},
     "output_type": "execute_result"
    }
   ],
   "source": [
    "data1.columns"
   ]
  },
  {
   "cell_type": "code",
   "execution_count": 29,
   "id": "f68aa63a",
   "metadata": {},
   "outputs": [],
   "source": [
    "for feature in ['CRIM', 'ZN', 'INDUS', 'NOX', 'RM', 'AGE', 'DIS', 'TAX', 'PTRATIO', 'B','LSTAT']:\n",
    "    data1[feature], opt = boxcox(data1[feature]+1)"
   ]
  },
  {
   "cell_type": "code",
   "execution_count": 30,
   "id": "16e5e14b",
   "metadata": {},
   "outputs": [],
   "source": [
    "from sklearn.preprocessing import MinMaxScaler"
   ]
  },
  {
   "cell_type": "code",
   "execution_count": 31,
   "id": "1afc91f5",
   "metadata": {},
   "outputs": [],
   "source": [
    "min = MinMaxScaler()"
   ]
  },
  {
   "cell_type": "code",
   "execution_count": 32,
   "id": "15f7e0fc",
   "metadata": {},
   "outputs": [],
   "source": [
    "data1['CHAS'] = min.fit_transform(data1['CHAS'].array.reshape(-1,1))"
   ]
  },
  {
   "cell_type": "code",
   "execution_count": 33,
   "id": "d62bc51f",
   "metadata": {},
   "outputs": [],
   "source": [
    "data1['RAD'] = min.fit_transform(data1['RAD'].array.reshape(-1,1))"
   ]
  },
  {
   "cell_type": "code",
   "execution_count": 34,
   "id": "3faf0727",
   "metadata": {},
   "outputs": [
    {
     "data": {
      "text/html": [
       "<div>\n",
       "<style scoped>\n",
       "    .dataframe tbody tr th:only-of-type {\n",
       "        vertical-align: middle;\n",
       "    }\n",
       "\n",
       "    .dataframe tbody tr th {\n",
       "        vertical-align: top;\n",
       "    }\n",
       "\n",
       "    .dataframe thead th {\n",
       "        text-align: right;\n",
       "    }\n",
       "</style>\n",
       "<table border=\"1\" class=\"dataframe\">\n",
       "  <thead>\n",
       "    <tr style=\"text-align: right;\">\n",
       "      <th></th>\n",
       "      <th>CRIM</th>\n",
       "      <th>ZN</th>\n",
       "      <th>INDUS</th>\n",
       "      <th>NOX</th>\n",
       "      <th>RM</th>\n",
       "      <th>AGE</th>\n",
       "      <th>DIS</th>\n",
       "      <th>TAX</th>\n",
       "      <th>PTRATIO</th>\n",
       "      <th>B</th>\n",
       "      <th>LSTAT</th>\n",
       "      <th>CHAS</th>\n",
       "      <th>RAD</th>\n",
       "      <th>Price</th>\n",
       "    </tr>\n",
       "  </thead>\n",
       "  <tbody>\n",
       "    <tr>\n",
       "      <th>count</th>\n",
       "      <td>506.000000</td>\n",
       "      <td>506.000000</td>\n",
       "      <td>506.000000</td>\n",
       "      <td>506.000000</td>\n",
       "      <td>506.000000</td>\n",
       "      <td>506.000000</td>\n",
       "      <td>506.000000</td>\n",
       "      <td>506.000000</td>\n",
       "      <td>506.000000</td>\n",
       "      <td>5.060000e+02</td>\n",
       "      <td>506.000000</td>\n",
       "      <td>506.000000</td>\n",
       "      <td>506.000000</td>\n",
       "      <td>506.000000</td>\n",
       "    </tr>\n",
       "    <tr>\n",
       "      <th>mean</th>\n",
       "      <td>0.387794</td>\n",
       "      <td>0.279617</td>\n",
       "      <td>3.870199</td>\n",
       "      <td>0.205834</td>\n",
       "      <td>2.808501</td>\n",
       "      <td>250.808650</td>\n",
       "      <td>1.061742</td>\n",
       "      <td>1.806202</td>\n",
       "      <td>179979.220988</td>\n",
       "      <td>1.433708e+09</td>\n",
       "      <td>3.044980</td>\n",
       "      <td>0.069170</td>\n",
       "      <td>0.371713</td>\n",
       "      <td>22.532806</td>\n",
       "    </tr>\n",
       "    <tr>\n",
       "      <th>std</th>\n",
       "      <td>0.361587</td>\n",
       "      <td>0.466525</td>\n",
       "      <td>1.547323</td>\n",
       "      <td>0.012258</td>\n",
       "      <td>0.186378</td>\n",
       "      <td>125.119011</td>\n",
       "      <td>0.209567</td>\n",
       "      <td>0.016810</td>\n",
       "      <td>75681.487617</td>\n",
       "      <td>5.130018e+08</td>\n",
       "      <td>0.785591</td>\n",
       "      <td>0.253994</td>\n",
       "      <td>0.378576</td>\n",
       "      <td>9.197104</td>\n",
       "    </tr>\n",
       "    <tr>\n",
       "      <th>min</th>\n",
       "      <td>0.006281</td>\n",
       "      <td>0.000000</td>\n",
       "      <td>0.406933</td>\n",
       "      <td>0.182674</td>\n",
       "      <td>1.974607</td>\n",
       "      <td>3.966755</td>\n",
       "      <td>0.641038</td>\n",
       "      <td>1.771433</td>\n",
       "      <td>32179.971747</td>\n",
       "      <td>4.908759e-01</td>\n",
       "      <td>1.085964</td>\n",
       "      <td>0.000000</td>\n",
       "      <td>0.000000</td>\n",
       "      <td>5.000000</td>\n",
       "    </tr>\n",
       "    <tr>\n",
       "      <th>25%</th>\n",
       "      <td>0.075960</td>\n",
       "      <td>0.000000</td>\n",
       "      <td>2.627042</td>\n",
       "      <td>0.194009</td>\n",
       "      <td>2.706329</td>\n",
       "      <td>136.162932</td>\n",
       "      <td>0.887180</td>\n",
       "      <td>1.793916</td>\n",
       "      <td>127619.869753</td>\n",
       "      <td>1.424866e+09</td>\n",
       "      <td>2.441546</td>\n",
       "      <td>0.000000</td>\n",
       "      <td>0.130435</td>\n",
       "      <td>17.025000</td>\n",
       "    </tr>\n",
       "    <tr>\n",
       "      <th>50%</th>\n",
       "      <td>0.205179</td>\n",
       "      <td>0.000000</td>\n",
       "      <td>3.838815</td>\n",
       "      <td>0.206166</td>\n",
       "      <td>2.794154</td>\n",
       "      <td>283.166349</td>\n",
       "      <td>1.058917</td>\n",
       "      <td>1.802036</td>\n",
       "      <td>188767.439718</td>\n",
       "      <td>1.668574e+09</td>\n",
       "      <td>3.069515</td>\n",
       "      <td>0.000000</td>\n",
       "      <td>0.173913</td>\n",
       "      <td>21.200000</td>\n",
       "    </tr>\n",
       "    <tr>\n",
       "      <th>75%</th>\n",
       "      <td>0.807667</td>\n",
       "      <td>0.999915</td>\n",
       "      <td>5.432896</td>\n",
       "      <td>0.215011</td>\n",
       "      <td>2.903221</td>\n",
       "      <td>368.093123</td>\n",
       "      <td>1.244780</td>\n",
       "      <td>1.829203</td>\n",
       "      <td>243388.276254</td>\n",
       "      <td>1.746751e+09</td>\n",
       "      <td>3.635169</td>\n",
       "      <td>0.000000</td>\n",
       "      <td>1.000000</td>\n",
       "      <td>25.000000</td>\n",
       "    </tr>\n",
       "    <tr>\n",
       "      <th>max</th>\n",
       "      <td>1.033994</td>\n",
       "      <td>1.087677</td>\n",
       "      <td>6.785222</td>\n",
       "      <td>0.230777</td>\n",
       "      <td>3.414035</td>\n",
       "      <td>399.847329</td>\n",
       "      <td>1.526397</td>\n",
       "      <td>1.831259</td>\n",
       "      <td>352862.835818</td>\n",
       "      <td>1.757992e+09</td>\n",
       "      <td>4.917958</td>\n",
       "      <td>1.000000</td>\n",
       "      <td>1.000000</td>\n",
       "      <td>50.000000</td>\n",
       "    </tr>\n",
       "  </tbody>\n",
       "</table>\n",
       "</div>"
      ],
      "text/plain": [
       "             CRIM          ZN       INDUS         NOX          RM         AGE  \\\n",
       "count  506.000000  506.000000  506.000000  506.000000  506.000000  506.000000   \n",
       "mean     0.387794    0.279617    3.870199    0.205834    2.808501  250.808650   \n",
       "std      0.361587    0.466525    1.547323    0.012258    0.186378  125.119011   \n",
       "min      0.006281    0.000000    0.406933    0.182674    1.974607    3.966755   \n",
       "25%      0.075960    0.000000    2.627042    0.194009    2.706329  136.162932   \n",
       "50%      0.205179    0.000000    3.838815    0.206166    2.794154  283.166349   \n",
       "75%      0.807667    0.999915    5.432896    0.215011    2.903221  368.093123   \n",
       "max      1.033994    1.087677    6.785222    0.230777    3.414035  399.847329   \n",
       "\n",
       "              DIS         TAX        PTRATIO             B       LSTAT  \\\n",
       "count  506.000000  506.000000     506.000000  5.060000e+02  506.000000   \n",
       "mean     1.061742    1.806202  179979.220988  1.433708e+09    3.044980   \n",
       "std      0.209567    0.016810   75681.487617  5.130018e+08    0.785591   \n",
       "min      0.641038    1.771433   32179.971747  4.908759e-01    1.085964   \n",
       "25%      0.887180    1.793916  127619.869753  1.424866e+09    2.441546   \n",
       "50%      1.058917    1.802036  188767.439718  1.668574e+09    3.069515   \n",
       "75%      1.244780    1.829203  243388.276254  1.746751e+09    3.635169   \n",
       "max      1.526397    1.831259  352862.835818  1.757992e+09    4.917958   \n",
       "\n",
       "             CHAS         RAD       Price  \n",
       "count  506.000000  506.000000  506.000000  \n",
       "mean     0.069170    0.371713   22.532806  \n",
       "std      0.253994    0.378576    9.197104  \n",
       "min      0.000000    0.000000    5.000000  \n",
       "25%      0.000000    0.130435   17.025000  \n",
       "50%      0.000000    0.173913   21.200000  \n",
       "75%      0.000000    1.000000   25.000000  \n",
       "max      1.000000    1.000000   50.000000  "
      ]
     },
     "execution_count": 34,
     "metadata": {},
     "output_type": "execute_result"
    }
   ],
   "source": [
    "data1.describe()"
   ]
  },
  {
   "cell_type": "code",
   "execution_count": 35,
   "id": "10bb9aa6",
   "metadata": {},
   "outputs": [
    {
     "data": {
      "text/plain": [
       "0      0.0\n",
       "1      0.0\n",
       "2      0.0\n",
       "3      0.0\n",
       "4      0.0\n",
       "      ... \n",
       "501    0.0\n",
       "502    0.0\n",
       "503    0.0\n",
       "504    0.0\n",
       "505    0.0\n",
       "Name: CHAS, Length: 506, dtype: float64"
      ]
     },
     "execution_count": 35,
     "metadata": {},
     "output_type": "execute_result"
    }
   ],
   "source": [
    "data1.CHAS"
   ]
  },
  {
   "cell_type": "code",
   "execution_count": 36,
   "id": "959b2946",
   "metadata": {},
   "outputs": [
    {
     "data": {
      "text/plain": [
       "0      0.000000\n",
       "1      0.043478\n",
       "2      0.043478\n",
       "3      0.086957\n",
       "4      0.086957\n",
       "         ...   \n",
       "501    0.000000\n",
       "502    0.000000\n",
       "503    0.000000\n",
       "504    0.000000\n",
       "505    0.000000\n",
       "Name: RAD, Length: 506, dtype: float64"
      ]
     },
     "execution_count": 36,
     "metadata": {},
     "output_type": "execute_result"
    }
   ],
   "source": [
    "data1.RAD"
   ]
  },
  {
   "cell_type": "code",
   "execution_count": 37,
   "id": "97ab7598",
   "metadata": {},
   "outputs": [
    {
     "data": {
      "text/html": [
       "<div>\n",
       "<style scoped>\n",
       "    .dataframe tbody tr th:only-of-type {\n",
       "        vertical-align: middle;\n",
       "    }\n",
       "\n",
       "    .dataframe tbody tr th {\n",
       "        vertical-align: top;\n",
       "    }\n",
       "\n",
       "    .dataframe thead th {\n",
       "        text-align: right;\n",
       "    }\n",
       "</style>\n",
       "<table border=\"1\" class=\"dataframe\">\n",
       "  <thead>\n",
       "    <tr style=\"text-align: right;\">\n",
       "      <th></th>\n",
       "      <th>CRIM</th>\n",
       "      <th>ZN</th>\n",
       "      <th>INDUS</th>\n",
       "      <th>NOX</th>\n",
       "      <th>RM</th>\n",
       "      <th>AGE</th>\n",
       "      <th>DIS</th>\n",
       "      <th>TAX</th>\n",
       "      <th>PTRATIO</th>\n",
       "      <th>B</th>\n",
       "      <th>LSTAT</th>\n",
       "      <th>CHAS</th>\n",
       "      <th>RAD</th>\n",
       "      <th>Price</th>\n",
       "    </tr>\n",
       "  </thead>\n",
       "  <tbody>\n",
       "    <tr>\n",
       "      <th>CRIM</th>\n",
       "      <td>1.000000</td>\n",
       "      <td>-0.480818</td>\n",
       "      <td>0.732133</td>\n",
       "      <td>0.809461</td>\n",
       "      <td>-0.290630</td>\n",
       "      <td>0.649407</td>\n",
       "      <td>-0.724989</td>\n",
       "      <td>0.810889</td>\n",
       "      <td>0.420658</td>\n",
       "      <td>-0.531695</td>\n",
       "      <td>0.575843</td>\n",
       "      <td>0.029174</td>\n",
       "      <td>0.883338</td>\n",
       "      <td>-0.428917</td>\n",
       "    </tr>\n",
       "    <tr>\n",
       "      <th>ZN</th>\n",
       "      <td>-0.480818</td>\n",
       "      <td>1.000000</td>\n",
       "      <td>-0.623830</td>\n",
       "      <td>-0.601773</td>\n",
       "      <td>0.327073</td>\n",
       "      <td>-0.547859</td>\n",
       "      <td>0.609066</td>\n",
       "      <td>-0.385288</td>\n",
       "      <td>-0.455923</td>\n",
       "      <td>0.251121</td>\n",
       "      <td>-0.458599</td>\n",
       "      <td>-0.040080</td>\n",
       "      <td>-0.350772</td>\n",
       "      <td>0.375807</td>\n",
       "    </tr>\n",
       "    <tr>\n",
       "      <th>INDUS</th>\n",
       "      <td>0.732133</td>\n",
       "      <td>-0.623830</td>\n",
       "      <td>1.000000</td>\n",
       "      <td>0.788570</td>\n",
       "      <td>-0.418815</td>\n",
       "      <td>0.662094</td>\n",
       "      <td>-0.758193</td>\n",
       "      <td>0.685052</td>\n",
       "      <td>0.449288</td>\n",
       "      <td>-0.402748</td>\n",
       "      <td>0.628209</td>\n",
       "      <td>0.074840</td>\n",
       "      <td>0.601271</td>\n",
       "      <td>-0.509471</td>\n",
       "    </tr>\n",
       "    <tr>\n",
       "      <th>NOX</th>\n",
       "      <td>0.809461</td>\n",
       "      <td>-0.601773</td>\n",
       "      <td>0.788570</td>\n",
       "      <td>1.000000</td>\n",
       "      <td>-0.312521</td>\n",
       "      <td>0.794761</td>\n",
       "      <td>-0.876359</td>\n",
       "      <td>0.651154</td>\n",
       "      <td>0.333735</td>\n",
       "      <td>-0.421555</td>\n",
       "      <td>0.610828</td>\n",
       "      <td>0.076285</td>\n",
       "      <td>0.629333</td>\n",
       "      <td>-0.429656</td>\n",
       "    </tr>\n",
       "    <tr>\n",
       "      <th>RM</th>\n",
       "      <td>-0.290630</td>\n",
       "      <td>0.327073</td>\n",
       "      <td>-0.418815</td>\n",
       "      <td>-0.312521</td>\n",
       "      <td>1.000000</td>\n",
       "      <td>-0.255583</td>\n",
       "      <td>0.275037</td>\n",
       "      <td>-0.303455</td>\n",
       "      <td>-0.341721</td>\n",
       "      <td>0.176629</td>\n",
       "      <td>-0.652701</td>\n",
       "      <td>0.087059</td>\n",
       "      <td>-0.217097</td>\n",
       "      <td>0.676939</td>\n",
       "    </tr>\n",
       "    <tr>\n",
       "      <th>AGE</th>\n",
       "      <td>0.649407</td>\n",
       "      <td>-0.547859</td>\n",
       "      <td>0.662094</td>\n",
       "      <td>0.794761</td>\n",
       "      <td>-0.255583</td>\n",
       "      <td>1.000000</td>\n",
       "      <td>-0.790599</td>\n",
       "      <td>0.498273</td>\n",
       "      <td>0.331380</td>\n",
       "      <td>-0.324002</td>\n",
       "      <td>0.624229</td>\n",
       "      <td>0.083434</td>\n",
       "      <td>0.466232</td>\n",
       "      <td>-0.384326</td>\n",
       "    </tr>\n",
       "    <tr>\n",
       "      <th>DIS</th>\n",
       "      <td>-0.724989</td>\n",
       "      <td>0.609066</td>\n",
       "      <td>-0.758193</td>\n",
       "      <td>-0.876359</td>\n",
       "      <td>0.275037</td>\n",
       "      <td>-0.790599</td>\n",
       "      <td>1.000000</td>\n",
       "      <td>-0.586367</td>\n",
       "      <td>-0.297443</td>\n",
       "      <td>0.367225</td>\n",
       "      <td>-0.546678</td>\n",
       "      <td>-0.084369</td>\n",
       "      <td>-0.565584</td>\n",
       "      <td>0.296892</td>\n",
       "    </tr>\n",
       "    <tr>\n",
       "      <th>TAX</th>\n",
       "      <td>0.810889</td>\n",
       "      <td>-0.385288</td>\n",
       "      <td>0.685052</td>\n",
       "      <td>0.651154</td>\n",
       "      <td>-0.303455</td>\n",
       "      <td>0.498273</td>\n",
       "      <td>-0.586367</td>\n",
       "      <td>1.000000</td>\n",
       "      <td>0.451886</td>\n",
       "      <td>-0.440962</td>\n",
       "      <td>0.514600</td>\n",
       "      <td>-0.037440</td>\n",
       "      <td>0.826948</td>\n",
       "      <td>-0.473259</td>\n",
       "    </tr>\n",
       "    <tr>\n",
       "      <th>PTRATIO</th>\n",
       "      <td>0.420658</td>\n",
       "      <td>-0.455923</td>\n",
       "      <td>0.449288</td>\n",
       "      <td>0.333735</td>\n",
       "      <td>-0.341721</td>\n",
       "      <td>0.331380</td>\n",
       "      <td>-0.297443</td>\n",
       "      <td>0.451886</td>\n",
       "      <td>1.000000</td>\n",
       "      <td>-0.179686</td>\n",
       "      <td>0.441107</td>\n",
       "      <td>-0.131876</td>\n",
       "      <td>0.480894</td>\n",
       "      <td>-0.511193</td>\n",
       "    </tr>\n",
       "    <tr>\n",
       "      <th>B</th>\n",
       "      <td>-0.531695</td>\n",
       "      <td>0.251121</td>\n",
       "      <td>-0.402748</td>\n",
       "      <td>-0.421555</td>\n",
       "      <td>0.176629</td>\n",
       "      <td>-0.324002</td>\n",
       "      <td>0.367225</td>\n",
       "      <td>-0.440962</td>\n",
       "      <td>-0.179686</td>\n",
       "      <td>1.000000</td>\n",
       "      <td>-0.373868</td>\n",
       "      <td>0.029548</td>\n",
       "      <td>-0.437564</td>\n",
       "      <td>0.324452</td>\n",
       "    </tr>\n",
       "    <tr>\n",
       "      <th>LSTAT</th>\n",
       "      <td>0.575843</td>\n",
       "      <td>-0.458599</td>\n",
       "      <td>0.628209</td>\n",
       "      <td>0.610828</td>\n",
       "      <td>-0.652701</td>\n",
       "      <td>0.624229</td>\n",
       "      <td>-0.546678</td>\n",
       "      <td>0.514600</td>\n",
       "      <td>0.441107</td>\n",
       "      <td>-0.373868</td>\n",
       "      <td>1.000000</td>\n",
       "      <td>-0.067008</td>\n",
       "      <td>0.475303</td>\n",
       "      <td>-0.803443</td>\n",
       "    </tr>\n",
       "    <tr>\n",
       "      <th>CHAS</th>\n",
       "      <td>0.029174</td>\n",
       "      <td>-0.040080</td>\n",
       "      <td>0.074840</td>\n",
       "      <td>0.076285</td>\n",
       "      <td>0.087059</td>\n",
       "      <td>0.083434</td>\n",
       "      <td>-0.084369</td>\n",
       "      <td>-0.037440</td>\n",
       "      <td>-0.131876</td>\n",
       "      <td>0.029548</td>\n",
       "      <td>-0.067008</td>\n",
       "      <td>1.000000</td>\n",
       "      <td>-0.007368</td>\n",
       "      <td>0.175260</td>\n",
       "    </tr>\n",
       "    <tr>\n",
       "      <th>RAD</th>\n",
       "      <td>0.883338</td>\n",
       "      <td>-0.350772</td>\n",
       "      <td>0.601271</td>\n",
       "      <td>0.629333</td>\n",
       "      <td>-0.217097</td>\n",
       "      <td>0.466232</td>\n",
       "      <td>-0.565584</td>\n",
       "      <td>0.826948</td>\n",
       "      <td>0.480894</td>\n",
       "      <td>-0.437564</td>\n",
       "      <td>0.475303</td>\n",
       "      <td>-0.007368</td>\n",
       "      <td>1.000000</td>\n",
       "      <td>-0.381626</td>\n",
       "    </tr>\n",
       "    <tr>\n",
       "      <th>Price</th>\n",
       "      <td>-0.428917</td>\n",
       "      <td>0.375807</td>\n",
       "      <td>-0.509471</td>\n",
       "      <td>-0.429656</td>\n",
       "      <td>0.676939</td>\n",
       "      <td>-0.384326</td>\n",
       "      <td>0.296892</td>\n",
       "      <td>-0.473259</td>\n",
       "      <td>-0.511193</td>\n",
       "      <td>0.324452</td>\n",
       "      <td>-0.803443</td>\n",
       "      <td>0.175260</td>\n",
       "      <td>-0.381626</td>\n",
       "      <td>1.000000</td>\n",
       "    </tr>\n",
       "  </tbody>\n",
       "</table>\n",
       "</div>"
      ],
      "text/plain": [
       "             CRIM        ZN     INDUS       NOX        RM       AGE       DIS  \\\n",
       "CRIM     1.000000 -0.480818  0.732133  0.809461 -0.290630  0.649407 -0.724989   \n",
       "ZN      -0.480818  1.000000 -0.623830 -0.601773  0.327073 -0.547859  0.609066   \n",
       "INDUS    0.732133 -0.623830  1.000000  0.788570 -0.418815  0.662094 -0.758193   \n",
       "NOX      0.809461 -0.601773  0.788570  1.000000 -0.312521  0.794761 -0.876359   \n",
       "RM      -0.290630  0.327073 -0.418815 -0.312521  1.000000 -0.255583  0.275037   \n",
       "AGE      0.649407 -0.547859  0.662094  0.794761 -0.255583  1.000000 -0.790599   \n",
       "DIS     -0.724989  0.609066 -0.758193 -0.876359  0.275037 -0.790599  1.000000   \n",
       "TAX      0.810889 -0.385288  0.685052  0.651154 -0.303455  0.498273 -0.586367   \n",
       "PTRATIO  0.420658 -0.455923  0.449288  0.333735 -0.341721  0.331380 -0.297443   \n",
       "B       -0.531695  0.251121 -0.402748 -0.421555  0.176629 -0.324002  0.367225   \n",
       "LSTAT    0.575843 -0.458599  0.628209  0.610828 -0.652701  0.624229 -0.546678   \n",
       "CHAS     0.029174 -0.040080  0.074840  0.076285  0.087059  0.083434 -0.084369   \n",
       "RAD      0.883338 -0.350772  0.601271  0.629333 -0.217097  0.466232 -0.565584   \n",
       "Price   -0.428917  0.375807 -0.509471 -0.429656  0.676939 -0.384326  0.296892   \n",
       "\n",
       "              TAX   PTRATIO         B     LSTAT      CHAS       RAD     Price  \n",
       "CRIM     0.810889  0.420658 -0.531695  0.575843  0.029174  0.883338 -0.428917  \n",
       "ZN      -0.385288 -0.455923  0.251121 -0.458599 -0.040080 -0.350772  0.375807  \n",
       "INDUS    0.685052  0.449288 -0.402748  0.628209  0.074840  0.601271 -0.509471  \n",
       "NOX      0.651154  0.333735 -0.421555  0.610828  0.076285  0.629333 -0.429656  \n",
       "RM      -0.303455 -0.341721  0.176629 -0.652701  0.087059 -0.217097  0.676939  \n",
       "AGE      0.498273  0.331380 -0.324002  0.624229  0.083434  0.466232 -0.384326  \n",
       "DIS     -0.586367 -0.297443  0.367225 -0.546678 -0.084369 -0.565584  0.296892  \n",
       "TAX      1.000000  0.451886 -0.440962  0.514600 -0.037440  0.826948 -0.473259  \n",
       "PTRATIO  0.451886  1.000000 -0.179686  0.441107 -0.131876  0.480894 -0.511193  \n",
       "B       -0.440962 -0.179686  1.000000 -0.373868  0.029548 -0.437564  0.324452  \n",
       "LSTAT    0.514600  0.441107 -0.373868  1.000000 -0.067008  0.475303 -0.803443  \n",
       "CHAS    -0.037440 -0.131876  0.029548 -0.067008  1.000000 -0.007368  0.175260  \n",
       "RAD      0.826948  0.480894 -0.437564  0.475303 -0.007368  1.000000 -0.381626  \n",
       "Price   -0.473259 -0.511193  0.324452 -0.803443  0.175260 -0.381626  1.000000  "
      ]
     },
     "execution_count": 37,
     "metadata": {},
     "output_type": "execute_result"
    }
   ],
   "source": [
    "data1.corr()"
   ]
  },
  {
   "cell_type": "code",
   "execution_count": 38,
   "id": "1d536502",
   "metadata": {},
   "outputs": [
    {
     "data": {
      "text/plain": [
       "<AxesSubplot:>"
      ]
     },
     "execution_count": 38,
     "metadata": {},
     "output_type": "execute_result"
    },
    {
     "data": {
      "image/png": "[encoded data removed]",
      "text/plain": [
       "<Figure size 720x504 with 2 Axes>"
      ]
     },
     "metadata": {
      "needs_background": "light"
     },
     "output_type": "display_data"
    }
   ],
   "source": [
    "plt.figure(figsize=(10,7))\n",
    "sns.heatmap(data1.corr(), annot=True)"
   ]
  },
  {
   "cell_type": "code",
   "execution_count": 39,
   "id": "4afdb4ca",
   "metadata": {},
   "outputs": [],
   "source": [
    "from sklearn.linear_model import LinearRegression, Ridge, Lasso, ElasticNet"
   ]
  },
  {
   "cell_type": "code",
   "execution_count": 40,
   "id": "f23060b6",
   "metadata": {},
   "outputs": [],
   "source": [
    "linear = LinearRegression()"
   ]
  },
  {
   "cell_type": "code",
   "execution_count": 41,
   "id": "2a08aa5d",
   "metadata": {},
   "outputs": [],
   "source": [
    "from sklearn.model_selection import train_test_split"
   ]
  },
  {
   "cell_type": "code",
   "execution_count": 42,
   "id": "c5458ba7",
   "metadata": {},
   "outputs": [
    {
     "data": {
      "text/plain": [
       "Index(['CRIM', 'ZN', 'INDUS', 'NOX', 'RM', 'AGE', 'DIS', 'TAX', 'PTRATIO', 'B',\n",
       "       'LSTAT', 'CHAS', 'RAD', 'Price'],\n",
       "      dtype='object')"
      ]
     },
     "execution_count": 42,
     "metadata": {},
     "output_type": "execute_result"
    }
   ],
   "source": [
    "data1.columns"
   ]
  },
  {
   "cell_type": "code",
   "execution_count": 43,
   "id": "6aa08df7",
   "metadata": {},
   "outputs": [],
   "source": [
    "x = data1.drop('Price', axis=1)"
   ]
  },
  {
   "cell_type": "code",
   "execution_count": 44,
   "id": "0afd2f91",
   "metadata": {},
   "outputs": [
    {
     "data": {
      "text/html": [
       "<div>\n",
       "<style scoped>\n",
       "    .dataframe tbody tr th:only-of-type {\n",
       "        vertical-align: middle;\n",
       "    }\n",
       "\n",
       "    .dataframe tbody tr th {\n",
       "        vertical-align: top;\n",
       "    }\n",
       "\n",
       "    .dataframe thead th {\n",
       "        text-align: right;\n",
       "    }\n",
       "</style>\n",
       "<table border=\"1\" class=\"dataframe\">\n",
       "  <thead>\n",
       "    <tr style=\"text-align: right;\">\n",
       "      <th></th>\n",
       "      <th>CRIM</th>\n",
       "      <th>ZN</th>\n",
       "      <th>INDUS</th>\n",
       "      <th>NOX</th>\n",
       "      <th>RM</th>\n",
       "      <th>AGE</th>\n",
       "      <th>DIS</th>\n",
       "      <th>TAX</th>\n",
       "      <th>PTRATIO</th>\n",
       "      <th>B</th>\n",
       "      <th>LSTAT</th>\n",
       "      <th>CHAS</th>\n",
       "      <th>RAD</th>\n",
       "    </tr>\n",
       "  </thead>\n",
       "  <tbody>\n",
       "    <tr>\n",
       "      <th>0</th>\n",
       "      <td>0.006281</td>\n",
       "      <td>1.027774</td>\n",
       "      <td>1.514756</td>\n",
       "      <td>0.206166</td>\n",
       "      <td>2.890682</td>\n",
       "      <td>224.200319</td>\n",
       "      <td>1.154678</td>\n",
       "      <td>1.796859</td>\n",
       "      <td>73458.962923</td>\n",
       "      <td>1.757992e+09</td>\n",
       "      <td>2.058391</td>\n",
       "      <td>0.0</td>\n",
       "      <td>0.000000</td>\n",
       "    </tr>\n",
       "    <tr>\n",
       "      <th>1</th>\n",
       "      <td>0.026600</td>\n",
       "      <td>0.000000</td>\n",
       "      <td>3.183963</td>\n",
       "      <td>0.197065</td>\n",
       "      <td>2.850510</td>\n",
       "      <td>290.105355</td>\n",
       "      <td>1.228591</td>\n",
       "      <td>1.786454</td>\n",
       "      <td>140762.652198</td>\n",
       "      <td>1.757992e+09</td>\n",
       "      <td>2.782521</td>\n",
       "      <td>0.0</td>\n",
       "      <td>0.043478</td>\n",
       "    </tr>\n",
       "    <tr>\n",
       "      <th>2</th>\n",
       "      <td>0.026581</td>\n",
       "      <td>0.000000</td>\n",
       "      <td>3.183963</td>\n",
       "      <td>0.197065</td>\n",
       "      <td>3.044659</td>\n",
       "      <td>205.387503</td>\n",
       "      <td>1.228591</td>\n",
       "      <td>1.786454</td>\n",
       "      <td>140762.652198</td>\n",
       "      <td>1.691013e+09</td>\n",
       "      <td>1.833656</td>\n",
       "      <td>0.0</td>\n",
       "      <td>0.043478</td>\n",
       "    </tr>\n",
       "    <tr>\n",
       "      <th>3</th>\n",
       "      <td>0.031378</td>\n",
       "      <td>0.000000</td>\n",
       "      <td>1.452155</td>\n",
       "      <td>0.195410</td>\n",
       "      <td>2.998295</td>\n",
       "      <td>139.321704</td>\n",
       "      <td>1.301378</td>\n",
       "      <td>1.781652</td>\n",
       "      <td>174199.594623</td>\n",
       "      <td>1.720399e+09</td>\n",
       "      <td>1.526384</td>\n",
       "      <td>0.0</td>\n",
       "      <td>0.086957</td>\n",
       "    </tr>\n",
       "    <tr>\n",
       "      <th>4</th>\n",
       "      <td>0.064688</td>\n",
       "      <td>0.000000</td>\n",
       "      <td>1.452155</td>\n",
       "      <td>0.195410</td>\n",
       "      <td>3.035295</td>\n",
       "      <td>174.752022</td>\n",
       "      <td>1.301378</td>\n",
       "      <td>1.781652</td>\n",
       "      <td>174199.594623</td>\n",
       "      <td>1.757992e+09</td>\n",
       "      <td>2.133595</td>\n",
       "      <td>0.0</td>\n",
       "      <td>0.086957</td>\n",
       "    </tr>\n",
       "    <tr>\n",
       "      <th>...</th>\n",
       "      <td>...</td>\n",
       "      <td>...</td>\n",
       "      <td>...</td>\n",
       "      <td>...</td>\n",
       "      <td>...</td>\n",
       "      <td>...</td>\n",
       "      <td>...</td>\n",
       "      <td>...</td>\n",
       "      <td>...</td>\n",
       "      <td>...</td>\n",
       "      <td>...</td>\n",
       "      <td>...</td>\n",
       "      <td>...</td>\n",
       "    </tr>\n",
       "    <tr>\n",
       "      <th>501</th>\n",
       "      <td>0.059020</td>\n",
       "      <td>0.000000</td>\n",
       "      <td>4.323211</td>\n",
       "      <td>0.210057</td>\n",
       "      <td>2.895342</td>\n",
       "      <td>242.496321</td>\n",
       "      <td>0.954725</td>\n",
       "      <td>1.792812</td>\n",
       "      <td>288150.035785</td>\n",
       "      <td>1.677427e+09</td>\n",
       "      <td>2.855545</td>\n",
       "      <td>0.0</td>\n",
       "      <td>0.000000</td>\n",
       "    </tr>\n",
       "    <tr>\n",
       "      <th>502</th>\n",
       "      <td>0.043353</td>\n",
       "      <td>0.000000</td>\n",
       "      <td>4.323211</td>\n",
       "      <td>0.210057</td>\n",
       "      <td>2.770356</td>\n",
       "      <td>279.220725</td>\n",
       "      <td>0.922024</td>\n",
       "      <td>1.792812</td>\n",
       "      <td>288150.035785</td>\n",
       "      <td>1.757992e+09</td>\n",
       "      <td>2.774052</td>\n",
       "      <td>0.0</td>\n",
       "      <td>0.000000</td>\n",
       "    </tr>\n",
       "    <tr>\n",
       "      <th>503</th>\n",
       "      <td>0.057357</td>\n",
       "      <td>0.000000</td>\n",
       "      <td>4.323211</td>\n",
       "      <td>0.210057</td>\n",
       "      <td>2.992793</td>\n",
       "      <td>351.893759</td>\n",
       "      <td>0.900046</td>\n",
       "      <td>1.792812</td>\n",
       "      <td>288150.035785</td>\n",
       "      <td>1.757992e+09</td>\n",
       "      <td>2.197320</td>\n",
       "      <td>0.0</td>\n",
       "      <td>0.000000</td>\n",
       "    </tr>\n",
       "    <tr>\n",
       "      <th>504</th>\n",
       "      <td>0.098999</td>\n",
       "      <td>0.000000</td>\n",
       "      <td>4.323211</td>\n",
       "      <td>0.210057</td>\n",
       "      <td>2.946883</td>\n",
       "      <td>343.022343</td>\n",
       "      <td>0.939708</td>\n",
       "      <td>1.792812</td>\n",
       "      <td>288150.035785</td>\n",
       "      <td>1.701093e+09</td>\n",
       "      <td>2.358140</td>\n",
       "      <td>0.0</td>\n",
       "      <td>0.000000</td>\n",
       "    </tr>\n",
       "    <tr>\n",
       "      <th>505</th>\n",
       "      <td>0.045312</td>\n",
       "      <td>0.000000</td>\n",
       "      <td>4.323211</td>\n",
       "      <td>0.210057</td>\n",
       "      <td>2.745951</td>\n",
       "      <td>299.594551</td>\n",
       "      <td>0.959038</td>\n",
       "      <td>1.792812</td>\n",
       "      <td>288150.035785</td>\n",
       "      <td>1.757992e+09</td>\n",
       "      <td>2.595005</td>\n",
       "      <td>0.0</td>\n",
       "      <td>0.000000</td>\n",
       "    </tr>\n",
       "  </tbody>\n",
       "</table>\n",
       "<p>506 rows × 13 columns</p>\n",
       "</div>"
      ],
      "text/plain": [
       "         CRIM        ZN     INDUS       NOX        RM         AGE       DIS  \\\n",
       "0    0.006281  1.027774  1.514756  0.206166  2.890682  224.200319  1.154678   \n",
       "1    0.026600  0.000000  3.183963  0.197065  2.850510  290.105355  1.228591   \n",
       "2    0.026581  0.000000  3.183963  0.197065  3.044659  205.387503  1.228591   \n",
       "3    0.031378  0.000000  1.452155  0.195410  2.998295  139.321704  1.301378   \n",
       "4    0.064688  0.000000  1.452155  0.195410  3.035295  174.752022  1.301378   \n",
       "..        ...       ...       ...       ...       ...         ...       ...   \n",
       "501  0.059020  0.000000  4.323211  0.210057  2.895342  242.496321  0.954725   \n",
       "502  0.043353  0.000000  4.323211  0.210057  2.770356  279.220725  0.922024   \n",
       "503  0.057357  0.000000  4.323211  0.210057  2.992793  351.893759  0.900046   \n",
       "504  0.098999  0.000000  4.323211  0.210057  2.946883  343.022343  0.939708   \n",
       "505  0.045312  0.000000  4.323211  0.210057  2.745951  299.594551  0.959038   \n",
       "\n",
       "          TAX        PTRATIO             B     LSTAT  CHAS       RAD  \n",
       "0    1.796859   73458.962923  1.757992e+09  2.058391   0.0  0.000000  \n",
       "1    1.786454  140762.652198  1.757992e+09  2.782521   0.0  0.043478  \n",
       "2    1.786454  140762.652198  1.691013e+09  1.833656   0.0  0.043478  \n",
       "3    1.781652  174199.594623  1.720399e+09  1.526384   0.0  0.086957  \n",
       "4    1.781652  174199.594623  1.757992e+09  2.133595   0.0  0.086957  \n",
       "..        ...            ...           ...       ...   ...       ...  \n",
       "501  1.792812  288150.035785  1.677427e+09  2.855545   0.0  0.000000  \n",
       "502  1.792812  288150.035785  1.757992e+09  2.774052   0.0  0.000000  \n",
       "503  1.792812  288150.035785  1.757992e+09  2.197320   0.0  0.000000  \n",
       "504  1.792812  288150.035785  1.701093e+09  2.358140   0.0  0.000000  \n",
       "505  1.792812  288150.035785  1.757992e+09  2.595005   0.0  0.000000  \n",
       "\n",
       "[506 rows x 13 columns]"
      ]
     },
     "execution_count": 44,
     "metadata": {},
     "output_type": "execute_result"
    }
   ],
   "source": [
    "x"
   ]
  },
  {
   "cell_type": "code",
   "execution_count": 45,
   "id": "61dac99f",
   "metadata": {},
   "outputs": [],
   "source": [
    "y = data1.Price"
   ]
  },
  {
   "cell_type": "code",
   "execution_count": 46,
   "id": "0e5d1cf2",
   "metadata": {},
   "outputs": [
    {
     "data": {
      "text/plain": [
       "0      24.0\n",
       "1      21.6\n",
       "2      34.7\n",
       "3      33.4\n",
       "4      36.2\n",
       "       ... \n",
       "501    22.4\n",
       "502    20.6\n",
       "503    23.9\n",
       "504    22.0\n",
       "505    11.9\n",
       "Name: Price, Length: 506, dtype: float64"
      ]
     },
     "execution_count": 46,
     "metadata": {},
     "output_type": "execute_result"
    }
   ],
   "source": [
    "y"
   ]
  },
  {
   "cell_type": "code",
   "execution_count": 47,
   "id": "961f643e",
   "metadata": {},
   "outputs": [],
   "source": [
    "x_train, x_test, y_train, y_test = train_test_split(x, y, test_size=0.20, random_state=30)"
   ]
  },
  {
   "cell_type": "code",
   "execution_count": 48,
   "id": "88921d57",
   "metadata": {},
   "outputs": [
    {
     "data": {
      "text/plain": [
       "(404, 13)"
      ]
     },
     "execution_count": 48,
     "metadata": {},
     "output_type": "execute_result"
    }
   ],
   "source": [
    "x_train.shape"
   ]
  },
  {
   "cell_type": "code",
   "execution_count": 49,
   "id": "654f5b4b",
   "metadata": {},
   "outputs": [
    {
     "data": {
      "text/plain": [
       "(102, 13)"
      ]
     },
     "execution_count": 49,
     "metadata": {},
     "output_type": "execute_result"
    }
   ],
   "source": [
    "x_test.shape"
   ]
  },
  {
   "cell_type": "code",
   "execution_count": 50,
   "id": "034a9f12",
   "metadata": {},
   "outputs": [
    {
     "data": {
      "text/plain": [
       "LinearRegression()"
      ]
     },
     "execution_count": 50,
     "metadata": {},
     "output_type": "execute_result"
    }
   ],
   "source": [
    "linear.fit(x_train, y_train)"
   ]
  },
  {
   "cell_type": "code",
   "execution_count": 51,
   "id": "747e23f5",
   "metadata": {},
   "outputs": [
    {
     "data": {
      "text/plain": [
       "array([ 2.46021770e+00,  3.59929186e-01, -3.80941386e-01, -1.75856023e+02,\n",
       "        9.97060934e+00,  5.16513245e-03, -1.62279183e+01, -1.06700410e+02,\n",
       "       -2.11981664e-05,  7.74285018e-10, -7.41246506e+00,  2.84413175e+00,\n",
       "        1.99813816e+00])"
      ]
     },
     "execution_count": 51,
     "metadata": {},
     "output_type": "execute_result"
    }
   ],
   "source": [
    "linear.coef_"
   ]
  },
  {
   "cell_type": "code",
   "execution_count": 52,
   "id": "323591dc",
   "metadata": {},
   "outputs": [
    {
     "data": {
      "text/plain": [
       "264.0459278299452"
      ]
     },
     "execution_count": 52,
     "metadata": {},
     "output_type": "execute_result"
    }
   ],
   "source": [
    "linear.intercept_"
   ]
  },
  {
   "cell_type": "code",
   "execution_count": 53,
   "id": "9b4eac59",
   "metadata": {},
   "outputs": [],
   "source": [
    "linear_pred = linear.predict(x_test)"
   ]
  },
  {
   "cell_type": "code",
   "execution_count": 54,
   "id": "527320f9",
   "metadata": {},
   "outputs": [
    {
     "data": {
      "text/plain": [
       "21     2.854755\n",
       "440   -2.640804\n",
       "103    0.531815\n",
       "178   -1.812832\n",
       "22     0.830806\n",
       "         ...   \n",
       "3     -1.697616\n",
       "323   -0.301001\n",
       "41    -3.915324\n",
       "208    3.319932\n",
       "442    1.460972\n",
       "Name: Price, Length: 102, dtype: float64"
      ]
     },
     "execution_count": 54,
     "metadata": {},
     "output_type": "execute_result"
    }
   ],
   "source": [
    "residual = y_test- linear_pred\n",
    "residual"
   ]
  },
  {
   "cell_type": "code",
   "execution_count": 55,
   "id": "1cf84c8d",
   "metadata": {},
   "outputs": [
    {
     "data": {
      "text/plain": [
       "<AxesSubplot:xlabel='Price', ylabel='Density'>"
      ]
     },
     "execution_count": 55,
     "metadata": {},
     "output_type": "execute_result"
    },
    {
     "data": {
      "image/png": "[encoded data removed]",
      "text/plain": [
       "<Figure size 432x288 with 1 Axes>"
      ]
     },
     "metadata": {
      "needs_background": "light"
     },
     "output_type": "display_data"
    }
   ],
   "source": [
    "sns.kdeplot(residual, shade=True)"
   ]
  },
  {
   "cell_type": "code",
   "execution_count": 56,
   "id": "6ab4f44d",
   "metadata": {},
   "outputs": [
    {
     "data": {
      "text/plain": [
       "<AxesSubplot:xlabel='Price'>"
      ]
     },
     "execution_count": 56,
     "metadata": {},
     "output_type": "execute_result"
    },
    {
     "data": {
      "image/png": "[encoded data removed]",
      "text/plain": [
       "<Figure size 432x288 with 1 Axes>"
      ]
     },
     "metadata": {
      "needs_background": "light"
     },
     "output_type": "display_data"
    }
   ],
   "source": [
    "sns.regplot(x = y_test, y=linear_pred)"
   ]
  },
  {
   "cell_type": "code",
   "execution_count": 57,
   "id": "4bc8276d",
   "metadata": {},
   "outputs": [
    {
     "name": "stderr",
     "output_type": "stream",
     "text": [
      "C:\\anaconda\\lib\\site-packages\\seaborn\\_decorators.py:36: FutureWarning: Pass the following variables as keyword args: x, y. From version 0.12, the only valid positional argument will be `data`, and passing other arguments without an explicit keyword will result in an error or misinterpretation.\n",
      "  warnings.warn(\n"
     ]
    },
    {
     "data": {
      "text/plain": [
       "<AxesSubplot:ylabel='Price'>"
      ]
     },
     "execution_count": 57,
     "metadata": {},
     "output_type": "execute_result"
    },
    {
     "data": {
      "image/png": "[encoded data removed]",
      "text/plain": [
       "<Figure size 432x288 with 1 Axes>"
      ]
     },
     "metadata": {
      "needs_background": "light"
     },
     "output_type": "display_data"
    }
   ],
   "source": [
    "sns.scatterplot(linear_pred, residual)"
   ]
  },
  {
   "cell_type": "code",
   "execution_count": 58,
   "id": "0c5873ad",
   "metadata": {},
   "outputs": [],
   "source": [
    "from sklearn.metrics import r2_score"
   ]
  },
  {
   "cell_type": "code",
   "execution_count": 59,
   "id": "96c46a5e",
   "metadata": {},
   "outputs": [
    {
     "data": {
      "text/plain": [
       "0.774107993470641"
      ]
     },
     "execution_count": 59,
     "metadata": {},
     "output_type": "execute_result"
    }
   ],
   "source": [
    "linear_scorer2 = r2_score(y_test, linear_pred)\n",
    "linear_scorer2"
   ]
  },
  {
   "cell_type": "code",
   "execution_count": 60,
   "id": "fb917f92",
   "metadata": {},
   "outputs": [
    {
     "data": {
      "text/plain": [
       "0.7407375834151675"
      ]
     },
     "execution_count": 60,
     "metadata": {},
     "output_type": "execute_result"
    }
   ],
   "source": [
    "adj_R2 = 1 - (1-linear_scorer2)*(len(y_test)-1)/(len(y_test)-x_test.shape[1]-1)\n",
    "adj_R2 "
   ]
  },
  {
   "cell_type": "code",
   "execution_count": 61,
   "id": "4b4a933b",
   "metadata": {},
   "outputs": [],
   "source": [
    "ridge = Ridge()"
   ]
  },
  {
   "cell_type": "code",
   "execution_count": 62,
   "id": "c2197cb4",
   "metadata": {},
   "outputs": [
    {
     "name": "stderr",
     "output_type": "stream",
     "text": [
      "C:\\anaconda\\lib\\site-packages\\sklearn\\linear_model\\_ridge.py:157: LinAlgWarning: Ill-conditioned matrix (rcond=8.85471e-21): result may not be accurate.\n",
      "  return linalg.solve(A, Xy, sym_pos=True, overwrite_a=True).T\n"
     ]
    },
    {
     "data": {
      "text/plain": [
       "Ridge()"
      ]
     },
     "execution_count": 62,
     "metadata": {},
     "output_type": "execute_result"
    }
   ],
   "source": [
    "ridge.fit(x_train, y_train)"
   ]
  },
  {
   "cell_type": "code",
   "execution_count": 63,
   "id": "53c83bf4",
   "metadata": {},
   "outputs": [
    {
     "data": {
      "text/plain": [
       "array([-1.01314013e-01,  1.90116904e-01, -7.55846763e-01, -1.22242130e+00,\n",
       "        9.22200210e+00,  4.79323168e-03, -9.67852304e+00, -3.10741217e+00,\n",
       "       -2.15785848e-05,  8.45102098e-10, -7.80326364e+00,  2.88091342e+00,\n",
       "        9.97661348e-02])"
      ]
     },
     "execution_count": 63,
     "metadata": {},
     "output_type": "execute_result"
    }
   ],
   "source": [
    "ridge.coef_"
   ]
  },
  {
   "cell_type": "code",
   "execution_count": 64,
   "id": "70acebe5",
   "metadata": {},
   "outputs": [
    {
     "data": {
      "text/plain": [
       "40.59184460445114"
      ]
     },
     "execution_count": 64,
     "metadata": {},
     "output_type": "execute_result"
    }
   ],
   "source": [
    "ridge.intercept_"
   ]
  },
  {
   "cell_type": "code",
   "execution_count": 65,
   "id": "b0a25b30",
   "metadata": {},
   "outputs": [
    {
     "data": {
      "text/plain": [
       "array([16.92766378, 13.5742862 , 19.21374055, 31.96631946, 14.07747652,\n",
       "       17.75002494, 18.55168859, 41.94480105, 13.60053372, 24.12105718,\n",
       "       27.5866351 , 30.38353796, 24.14422741, 34.20139871, 13.09701327,\n",
       "       25.36321121, 13.10481556, 27.23117995, 15.03973811, 27.57550111,\n",
       "       22.13325605, 15.71868625, 28.77913787, 12.64942159, 15.46684414,\n",
       "       13.67574608, 16.91858432,  4.14701013, 13.74803523, 11.21257044,\n",
       "       15.13315602, 24.37460313, 34.0025592 , 25.34485584, 21.08710615,\n",
       "       22.18197131, 12.5325753 , 20.3402624 , 19.22439654, 20.29313262,\n",
       "       20.55856327, 16.58951819, 40.61648502, 26.66431324, 26.478386  ,\n",
       "       21.90477709, 19.51989877, 16.74566403, 16.9084546 , 15.40167133,\n",
       "       14.79032048, 17.39359941, 19.2591489 , 24.86933412, 33.52526834,\n",
       "       26.13356572, 39.58640994, 30.97901718, 16.03360755, 33.24728022,\n",
       "       23.07306245, 17.93002042, 27.62581229, 23.74016108, 16.56888298,\n",
       "        9.7787055 , 15.35861415, 22.67720137, 37.73412006, 37.10370572,\n",
       "       16.39885531, 21.68058505, 18.86968384, 25.93122318, 31.12363813,\n",
       "       20.23166171,  7.46630863, 21.74043285, 22.01181234, 31.11588087,\n",
       "       17.11886027, 23.71797524, 25.2039521 , 19.43942888, 26.54272876,\n",
       "       33.56674834, 38.20585166, 30.39375378, 20.28974792, 17.06579382,\n",
       "       27.53580426, 23.21760005, 18.07159666, 31.29293683, 12.35775134,\n",
       "       16.93272808,  5.48961011, 35.23136021, 18.86759007, 29.57795539,\n",
       "       20.52696856, 17.94549242])"
      ]
     },
     "execution_count": 65,
     "metadata": {},
     "output_type": "execute_result"
    }
   ],
   "source": [
    "ridge_pred = ridge.predict(x_test)\n",
    "ridge_pred"
   ]
  },
  {
   "cell_type": "code",
   "execution_count": 66,
   "id": "f39aa4f5",
   "metadata": {},
   "outputs": [
    {
     "data": {
      "text/plain": [
       "21     2.672336\n",
       "440   -3.074286\n",
       "103    0.086259\n",
       "178   -2.066319\n",
       "22     1.122523\n",
       "         ...   \n",
       "3     -1.831360\n",
       "323   -0.367590\n",
       "41    -2.977955\n",
       "208    3.873031\n",
       "442    0.454508\n",
       "Name: Price, Length: 102, dtype: float64"
      ]
     },
     "execution_count": 66,
     "metadata": {},
     "output_type": "execute_result"
    }
   ],
   "source": [
    "residuals = y_test-ridge_pred\n",
    "residuals"
   ]
  },
  {
   "cell_type": "code",
   "execution_count": 67,
   "id": "82aee2fa",
   "metadata": {},
   "outputs": [
    {
     "data": {
      "text/plain": [
       "<AxesSubplot:xlabel='Price', ylabel='Density'>"
      ]
     },
     "execution_count": 67,
     "metadata": {},
     "output_type": "execute_result"
    },
    {
     "data": {
      "image/png": "[encoded data removed]",
      "text/plain": [
       "<Figure size 432x288 with 1 Axes>"
      ]
     },
     "metadata": {
      "needs_background": "light"
     },
     "output_type": "display_data"
    }
   ],
   "source": [
    "sns.kdeplot(residuals, shade=True)"
   ]
  },
  {
   "cell_type": "code",
   "execution_count": 68,
   "id": "6cce0f6d",
   "metadata": {},
   "outputs": [
    {
     "data": {
      "text/plain": [
       "<AxesSubplot:xlabel='Price'>"
      ]
     },
     "execution_count": 68,
     "metadata": {},
     "output_type": "execute_result"
    },
    {
     "data": {
      "image/png": "[encoded data removed]",
      "text/plain": [
       "<Figure size 432x288 with 1 Axes>"
      ]
     },
     "metadata": {
      "needs_background": "light"
     },
     "output_type": "display_data"
    }
   ],
   "source": [
    "sns.regplot(x=y_test, y=ridge_pred)"
   ]
  },
  {
   "cell_type": "code",
   "execution_count": 69,
   "id": "16624622",
   "metadata": {},
   "outputs": [
    {
     "name": "stderr",
     "output_type": "stream",
     "text": [
      "C:\\anaconda\\lib\\site-packages\\seaborn\\_decorators.py:36: FutureWarning: Pass the following variables as keyword args: x, y. From version 0.12, the only valid positional argument will be `data`, and passing other arguments without an explicit keyword will result in an error or misinterpretation.\n",
      "  warnings.warn(\n"
     ]
    },
    {
     "data": {
      "text/plain": [
       "<AxesSubplot:xlabel='Price'>"
      ]
     },
     "execution_count": 69,
     "metadata": {},
     "output_type": "execute_result"
    },
    {
     "data": {
      "image/png": "[encoded data removed]",
      "text/plain": [
       "<Figure size 432x288 with 1 Axes>"
      ]
     },
     "metadata": {
      "needs_background": "light"
     },
     "output_type": "display_data"
    }
   ],
   "source": [
    "sns.scatterplot(residuals, ridge_pred)"
   ]
  },
  {
   "cell_type": "code",
   "execution_count": 70,
   "id": "d48d955d",
   "metadata": {},
   "outputs": [],
   "source": [
    "elas = ElasticNet()"
   ]
  },
  {
   "cell_type": "code",
   "execution_count": 71,
   "id": "3834282d",
   "metadata": {},
   "outputs": [
    {
     "data": {
      "text/plain": [
       "ElasticNet()"
      ]
     },
     "execution_count": 71,
     "metadata": {},
     "output_type": "execute_result"
    }
   ],
   "source": [
    "elas.fit(x_train, y_train)"
   ]
  },
  {
   "cell_type": "code",
   "execution_count": 72,
   "id": "fc6fe1c4",
   "metadata": {},
   "outputs": [
    {
     "data": {
      "text/plain": [
       "array([ 0.00000000e+00,  0.00000000e+00, -4.72527453e-01, -0.00000000e+00,\n",
       "        1.74699792e-01,  4.66835778e-04, -0.00000000e+00, -0.00000000e+00,\n",
       "       -4.05129217e-05,  2.19700503e-09, -3.36461155e+00,  0.00000000e+00,\n",
       "        0.00000000e+00])"
      ]
     },
     "execution_count": 72,
     "metadata": {},
     "output_type": "execute_result"
    }
   ],
   "source": [
    "elas.coef_"
   ]
  },
  {
   "cell_type": "code",
   "execution_count": 73,
   "id": "e52c561c",
   "metadata": {},
   "outputs": [
    {
     "data": {
      "text/plain": [
       "38.06853275394218"
      ]
     },
     "execution_count": 73,
     "metadata": {},
     "output_type": "execute_result"
    }
   ],
   "source": [
    "elas.intercept_"
   ]
  },
  {
   "cell_type": "code",
   "execution_count": 74,
   "id": "bb5ae57e",
   "metadata": {},
   "outputs": [],
   "source": [
    "elas_pred = elas.predict(x_test)"
   ]
  },
  {
   "cell_type": "code",
   "execution_count": 75,
   "id": "8f6970f4",
   "metadata": {},
   "outputs": [],
   "source": [
    "residualE = y_test - elas_pred"
   ]
  },
  {
   "cell_type": "code",
   "execution_count": 76,
   "id": "6e90b086",
   "metadata": {},
   "outputs": [
    {
     "data": {
      "text/plain": [
       "21     1.744433\n",
       "440   -5.863769\n",
       "103    1.045353\n",
       "178    1.004813\n",
       "22    -1.344329\n",
       "         ...   \n",
       "3      3.842105\n",
       "323   -3.139386\n",
       "41    -1.294766\n",
       "208    2.763045\n",
       "442    0.388996\n",
       "Name: Price, Length: 102, dtype: float64"
      ]
     },
     "execution_count": 76,
     "metadata": {},
     "output_type": "execute_result"
    }
   ],
   "source": [
    "residualE"
   ]
  },
  {
   "cell_type": "code",
   "execution_count": 77,
   "id": "b0bae6f6",
   "metadata": {},
   "outputs": [
    {
     "data": {
      "text/plain": [
       "<AxesSubplot:xlabel='Price', ylabel='Density'>"
      ]
     },
     "execution_count": 77,
     "metadata": {},
     "output_type": "execute_result"
    },
    {
     "data": {
      "image/png": "[encoded data removed]",
      "text/plain": [
       "<Figure size 432x288 with 1 Axes>"
      ]
     },
     "metadata": {
      "needs_background": "light"
     },
     "output_type": "display_data"
    }
   ],
   "source": [
    "sns.kdeplot(residualE, shade=True)"
   ]
  },
  {
   "cell_type": "code",
   "execution_count": 78,
   "id": "016dda28",
   "metadata": {},
   "outputs": [
    {
     "data": {
      "text/plain": [
       "<AxesSubplot:xlabel='Price'>"
      ]
     },
     "execution_count": 78,
     "metadata": {},
     "output_type": "execute_result"
    },
    {
     "data": {
      "image/png": "[encoded data removed]",
      "text/plain": [
       "<Figure size 432x288 with 1 Axes>"
      ]
     },
     "metadata": {
      "needs_background": "light"
     },
     "output_type": "display_data"
    }
   ],
   "source": [
    "sns.regplot(x=y_test, y=elas_pred)"
   ]
  },
  {
   "cell_type": "code",
   "execution_count": 79,
   "id": "a15f90f3",
   "metadata": {},
   "outputs": [
    {
     "data": {
      "text/plain": [
       "<AxesSubplot:ylabel='Price'>"
      ]
     },
     "execution_count": 79,
     "metadata": {},
     "output_type": "execute_result"
    },
    {
     "data": {
      "image/png": "[encoded data removed]",
      "text/plain": [
       "<Figure size 432x288 with 1 Axes>"
      ]
     },
     "metadata": {
      "needs_background": "light"
     },
     "output_type": "display_data"
    }
   ],
   "source": [
    "sns.scatterplot(x=elas_pred, y=residualE)"
   ]
  },
  {
   "cell_type": "code",
   "execution_count": 80,
   "id": "268cc878",
   "metadata": {},
   "outputs": [
    {
     "data": {
      "text/plain": [
       "0.6354171263683395"
      ]
     },
     "execution_count": 80,
     "metadata": {},
     "output_type": "execute_result"
    }
   ],
   "source": [
    "ela_score = r2_score(y_test, elas_pred)\n",
    "ela_score"
   ]
  },
  {
   "cell_type": "code",
   "execution_count": 81,
   "id": "d300230b",
   "metadata": {},
   "outputs": [
    {
     "data": {
      "text/plain": [
       "0.5815582927636624"
      ]
     },
     "execution_count": 81,
     "metadata": {},
     "output_type": "execute_result"
    }
   ],
   "source": [
    "adj_R2 = 1 - (1-ela_score)*(len(y_test)-1)/(len(y_test)-x_test.shape[1]-1)\n",
    "adj_R2 "
   ]
  }
 ],
 "metadata": {
  "kernelspec": {
   "display_name": "Python 3 (ipykernel)",
   "language": "python",
   "name": "python3"
  },
  "language_info": {
   "codemirror_mode": {
    "name": "ipython",
    "version": 3
   },
   "file_extension": ".py",
   "mimetype": "text/x-python",
   "name": "python",
   "nbconvert_exporter": "python",
   "pygments_lexer": "ipython3",
   "version": "3.9.12"
  }
 },
 "nbformat": 4,
 "nbformat_minor": 5
}
